{
 "cells": [
  {
   "cell_type": "code",
   "execution_count": 1,
   "metadata": {
    "ExecuteTime": {
     "end_time": "2020-10-14T15:51:49.362664Z",
     "start_time": "2020-10-14T15:51:48.815094Z"
    }
   },
   "outputs": [],
   "source": [
    "from lightfm import LightFM\n",
    "from lightfm.data import Dataset\n",
    "from lightfm.cross_validation import random_train_test_split\n",
    "from lightfm.evaluation import auc_score, precision_at_k\n",
    "\n",
    "from sklearn.neighbors import NearestNeighbors\n",
    "import scipy.sparse as scs\n",
    "\n",
    "import numpy as np\n",
    "import pandas as pd\n",
    "\n",
    "import itertools\n",
    "import os"
   ]
  },
  {
   "cell_type": "code",
   "execution_count": 2,
   "metadata": {
    "ExecuteTime": {
     "end_time": "2020-10-14T15:51:49.433441Z",
     "start_time": "2020-10-14T15:51:49.430568Z"
    }
   },
   "outputs": [],
   "source": [
    "PATH_TO_DATA = os.path.join()\n",
    "SEED = 42"
   ]
  },
  {
   "cell_type": "code",
   "execution_count": 3,
   "metadata": {
    "ExecuteTime": {
     "end_time": "2020-10-14T15:51:50.041358Z",
     "start_time": "2020-10-14T15:51:49.909277Z"
    }
   },
   "outputs": [],
   "source": [
    "interactions = pd.read_csv(os.path.join(PATH_TO_DATA, 'interactions.csv'))\n",
    "interactions = interactions.rename(columns={'row': 'customer_id', 'col': 'item_id', 'data': 'response'})\n",
    "interactions.columns = [x.lower() for x in interactions.columns]\n",
    "#print('interactions')\n",
    "#print(interactions.head())\n",
    "\n",
    "#goods\n",
    "item_asset = pd.read_csv(os.path.join(PATH_TO_DATA, 'item_asset.csv')).drop(['col'], axis=1)\n",
    "item_asset = item_asset.rename(columns={'row': 'item_id', 'data': 'property_item'})\n",
    "item_asset.columns = [x.lower() for x in item_asset.columns]\n",
    "#print('item_asset')\n",
    "#print(item_asset.head())\n",
    "\n",
    "item_price = pd.read_csv(os.path.join(PATH_TO_DATA, 'item_price.csv')).drop(['col'], axis=1)\n",
    "item_price = item_price.rename(columns={'row': 'item_id', 'data': 'price_scaled'})\n",
    "item_price.columns = [x.lower() for x in item_price.columns]\n",
    "#print('item_price')\n",
    "#print(item_price.head())\n",
    "\n",
    "item_subclass = pd.read_csv(os.path.join(PATH_TO_DATA, 'item_subclass.csv'))\n",
    "item_subclass = item_subclass.rename(columns={'row': 'item_id', 'col': 'category_num', 'data': 'category_connection'})\n",
    "item_subclass.columns = [x.lower() for x in item_subclass.columns]\n",
    "#print('item_subclass')\n",
    "#print(item_subclass.head())\n",
    "\n",
    "#users\n",
    "user_age = pd.read_csv(os.path.join(PATH_TO_DATA, 'user_age.csv')).drop(['col'], axis=1)\n",
    "user_age = user_age.rename(columns={'row': 'customer_id', 'data': 'age_scaled'})\n",
    "user_age.columns = [x.lower() for x in user_age.columns]\n",
    "#print('user_age')\n",
    "#print(user_age.head())\n",
    "\n",
    "user_region = pd.read_csv(os.path.join(PATH_TO_DATA, 'user_region.csv'))\n",
    "user_region = user_region.rename(columns={'row': 'customer_id', 'col': 'region_ohe_position', 'data': 'region_feat'})\n",
    "user_region.columns = [x.lower() for x in user_region.columns]\n",
    "#print('user_region')\n",
    "#print(user_region.head())\n"
   ]
  },
  {
   "cell_type": "code",
   "execution_count": 4,
   "metadata": {
    "ExecuteTime": {
     "end_time": "2020-10-14T15:51:50.489756Z",
     "start_time": "2020-10-14T15:51:50.473025Z"
    }
   },
   "outputs": [
    {
     "name": "stdout",
     "output_type": "stream",
     "text": [
      "interactions shape: (398636, 3)\n"
     ]
    },
    {
     "data": {
      "text/html": [
       "<div>\n",
       "<style scoped>\n",
       "    .dataframe tbody tr th:only-of-type {\n",
       "        vertical-align: middle;\n",
       "    }\n",
       "\n",
       "    .dataframe tbody tr th {\n",
       "        vertical-align: top;\n",
       "    }\n",
       "\n",
       "    .dataframe thead th {\n",
       "        text-align: right;\n",
       "    }\n",
       "</style>\n",
       "<table border=\"1\" class=\"dataframe\">\n",
       "  <thead>\n",
       "    <tr style=\"text-align: right;\">\n",
       "      <th></th>\n",
       "      <th>customer_id</th>\n",
       "      <th>item_id</th>\n",
       "      <th>response</th>\n",
       "    </tr>\n",
       "  </thead>\n",
       "  <tbody>\n",
       "    <tr>\n",
       "      <th>0</th>\n",
       "      <td>0</td>\n",
       "      <td>3568</td>\n",
       "      <td>1.0</td>\n",
       "    </tr>\n",
       "    <tr>\n",
       "      <th>1</th>\n",
       "      <td>0</td>\n",
       "      <td>3827</td>\n",
       "      <td>1.0</td>\n",
       "    </tr>\n",
       "    <tr>\n",
       "      <th>2</th>\n",
       "      <td>0</td>\n",
       "      <td>4844</td>\n",
       "      <td>1.0</td>\n",
       "    </tr>\n",
       "    <tr>\n",
       "      <th>3</th>\n",
       "      <td>0</td>\n",
       "      <td>5734</td>\n",
       "      <td>1.0</td>\n",
       "    </tr>\n",
       "    <tr>\n",
       "      <th>4</th>\n",
       "      <td>0</td>\n",
       "      <td>6518</td>\n",
       "      <td>1.0</td>\n",
       "    </tr>\n",
       "  </tbody>\n",
       "</table>\n",
       "</div>"
      ],
      "text/plain": [
       "   customer_id  item_id  response\n",
       "0            0     3568       1.0\n",
       "1            0     3827       1.0\n",
       "2            0     4844       1.0\n",
       "3            0     5734       1.0\n",
       "4            0     6518       1.0"
      ]
     },
     "execution_count": 4,
     "metadata": {},
     "output_type": "execute_result"
    }
   ],
   "source": [
    "print(f'interactions shape: {interactions.shape}')\n",
    "interactions.head()"
   ]
  },
  {
   "cell_type": "code",
   "execution_count": 5,
   "metadata": {
    "ExecuteTime": {
     "end_time": "2020-10-14T15:51:58.080544Z",
     "start_time": "2020-10-14T15:51:58.066527Z"
    }
   },
   "outputs": [
    {
     "name": "stdout",
     "output_type": "stream",
     "text": [
      "(27255,) (15277,)\n",
      "unique responses: [1.]\n"
     ]
    }
   ],
   "source": [
    "print(interactions['customer_id'].unique().shape, interactions['item_id'].unique().shape)\n",
    "print(f'unique responses: {interactions[\"response\"].unique()}')"
   ]
  },
  {
   "cell_type": "markdown",
   "metadata": {},
   "source": [
    "We can see that this task is about **implicit feedback** (have only one unique values in interactions)"
   ]
  },
  {
   "cell_type": "code",
   "execution_count": 6,
   "metadata": {
    "ExecuteTime": {
     "end_time": "2020-10-14T15:52:19.747019Z",
     "start_time": "2020-10-14T15:52:04.173074Z"
    }
   },
   "outputs": [
    {
     "name": "stdout",
     "output_type": "stream",
     "text": [
      "all users have at least 1 connection\n"
     ]
    }
   ],
   "source": [
    "interactions_pivot = interactions.pivot(index='customer_id', columns='item_id', values='response').fillna(0)\n",
    "flag = False\n",
    "for i, x in enumerate(interactions_pivot.values.sum(axis=1)):\n",
    "    if not x:\n",
    "        flag = True\n",
    "        print(i)\n",
    "if not flag:\n",
    "    print('all users have at least 1 connection')"
   ]
  },
  {
   "cell_type": "code",
   "execution_count": 7,
   "metadata": {
    "ExecuteTime": {
     "end_time": "2020-10-14T15:52:54.909991Z",
     "start_time": "2020-10-14T15:52:54.889319Z"
    }
   },
   "outputs": [
    {
     "data": {
      "text/html": [
       "<div>\n",
       "<style scoped>\n",
       "    .dataframe tbody tr th:only-of-type {\n",
       "        vertical-align: middle;\n",
       "    }\n",
       "\n",
       "    .dataframe tbody tr th {\n",
       "        vertical-align: top;\n",
       "    }\n",
       "\n",
       "    .dataframe thead th {\n",
       "        text-align: right;\n",
       "    }\n",
       "</style>\n",
       "<table border=\"1\" class=\"dataframe\">\n",
       "  <thead>\n",
       "    <tr style=\"text-align: right;\">\n",
       "      <th>item_id</th>\n",
       "      <th>0</th>\n",
       "      <th>2</th>\n",
       "      <th>4</th>\n",
       "      <th>5</th>\n",
       "      <th>6</th>\n",
       "      <th>7</th>\n",
       "      <th>9</th>\n",
       "      <th>10</th>\n",
       "      <th>11</th>\n",
       "      <th>12</th>\n",
       "      <th>...</th>\n",
       "      <th>18485</th>\n",
       "      <th>18486</th>\n",
       "      <th>18487</th>\n",
       "      <th>18488</th>\n",
       "      <th>18489</th>\n",
       "      <th>18490</th>\n",
       "      <th>18491</th>\n",
       "      <th>18492</th>\n",
       "      <th>18493</th>\n",
       "      <th>18494</th>\n",
       "    </tr>\n",
       "    <tr>\n",
       "      <th>customer_id</th>\n",
       "      <th></th>\n",
       "      <th></th>\n",
       "      <th></th>\n",
       "      <th></th>\n",
       "      <th></th>\n",
       "      <th></th>\n",
       "      <th></th>\n",
       "      <th></th>\n",
       "      <th></th>\n",
       "      <th></th>\n",
       "      <th></th>\n",
       "      <th></th>\n",
       "      <th></th>\n",
       "      <th></th>\n",
       "      <th></th>\n",
       "      <th></th>\n",
       "      <th></th>\n",
       "      <th></th>\n",
       "      <th></th>\n",
       "      <th></th>\n",
       "      <th></th>\n",
       "    </tr>\n",
       "  </thead>\n",
       "  <tbody>\n",
       "    <tr>\n",
       "      <th>0</th>\n",
       "      <td>0.0</td>\n",
       "      <td>0.0</td>\n",
       "      <td>0.0</td>\n",
       "      <td>0.0</td>\n",
       "      <td>0.0</td>\n",
       "      <td>0.0</td>\n",
       "      <td>0.0</td>\n",
       "      <td>0.0</td>\n",
       "      <td>0.0</td>\n",
       "      <td>0.0</td>\n",
       "      <td>...</td>\n",
       "      <td>0.0</td>\n",
       "      <td>0.0</td>\n",
       "      <td>0.0</td>\n",
       "      <td>0.0</td>\n",
       "      <td>0.0</td>\n",
       "      <td>0.0</td>\n",
       "      <td>0.0</td>\n",
       "      <td>0.0</td>\n",
       "      <td>0.0</td>\n",
       "      <td>0.0</td>\n",
       "    </tr>\n",
       "    <tr>\n",
       "      <th>1</th>\n",
       "      <td>0.0</td>\n",
       "      <td>0.0</td>\n",
       "      <td>0.0</td>\n",
       "      <td>0.0</td>\n",
       "      <td>0.0</td>\n",
       "      <td>0.0</td>\n",
       "      <td>0.0</td>\n",
       "      <td>0.0</td>\n",
       "      <td>0.0</td>\n",
       "      <td>0.0</td>\n",
       "      <td>...</td>\n",
       "      <td>0.0</td>\n",
       "      <td>0.0</td>\n",
       "      <td>0.0</td>\n",
       "      <td>0.0</td>\n",
       "      <td>0.0</td>\n",
       "      <td>0.0</td>\n",
       "      <td>0.0</td>\n",
       "      <td>0.0</td>\n",
       "      <td>0.0</td>\n",
       "      <td>0.0</td>\n",
       "    </tr>\n",
       "    <tr>\n",
       "      <th>2</th>\n",
       "      <td>0.0</td>\n",
       "      <td>0.0</td>\n",
       "      <td>0.0</td>\n",
       "      <td>0.0</td>\n",
       "      <td>0.0</td>\n",
       "      <td>0.0</td>\n",
       "      <td>0.0</td>\n",
       "      <td>0.0</td>\n",
       "      <td>0.0</td>\n",
       "      <td>0.0</td>\n",
       "      <td>...</td>\n",
       "      <td>0.0</td>\n",
       "      <td>0.0</td>\n",
       "      <td>0.0</td>\n",
       "      <td>0.0</td>\n",
       "      <td>0.0</td>\n",
       "      <td>0.0</td>\n",
       "      <td>0.0</td>\n",
       "      <td>0.0</td>\n",
       "      <td>0.0</td>\n",
       "      <td>0.0</td>\n",
       "    </tr>\n",
       "    <tr>\n",
       "      <th>3</th>\n",
       "      <td>0.0</td>\n",
       "      <td>0.0</td>\n",
       "      <td>0.0</td>\n",
       "      <td>0.0</td>\n",
       "      <td>0.0</td>\n",
       "      <td>0.0</td>\n",
       "      <td>0.0</td>\n",
       "      <td>0.0</td>\n",
       "      <td>0.0</td>\n",
       "      <td>0.0</td>\n",
       "      <td>...</td>\n",
       "      <td>0.0</td>\n",
       "      <td>0.0</td>\n",
       "      <td>0.0</td>\n",
       "      <td>0.0</td>\n",
       "      <td>0.0</td>\n",
       "      <td>0.0</td>\n",
       "      <td>0.0</td>\n",
       "      <td>0.0</td>\n",
       "      <td>0.0</td>\n",
       "      <td>0.0</td>\n",
       "    </tr>\n",
       "    <tr>\n",
       "      <th>4</th>\n",
       "      <td>0.0</td>\n",
       "      <td>0.0</td>\n",
       "      <td>0.0</td>\n",
       "      <td>0.0</td>\n",
       "      <td>0.0</td>\n",
       "      <td>0.0</td>\n",
       "      <td>0.0</td>\n",
       "      <td>0.0</td>\n",
       "      <td>0.0</td>\n",
       "      <td>0.0</td>\n",
       "      <td>...</td>\n",
       "      <td>0.0</td>\n",
       "      <td>0.0</td>\n",
       "      <td>0.0</td>\n",
       "      <td>0.0</td>\n",
       "      <td>0.0</td>\n",
       "      <td>0.0</td>\n",
       "      <td>0.0</td>\n",
       "      <td>0.0</td>\n",
       "      <td>0.0</td>\n",
       "      <td>0.0</td>\n",
       "    </tr>\n",
       "  </tbody>\n",
       "</table>\n",
       "<p>5 rows × 15277 columns</p>\n",
       "</div>"
      ],
      "text/plain": [
       "item_id      0      2      4      5      6      7      9      10     11     \\\n",
       "customer_id                                                                  \n",
       "0              0.0    0.0    0.0    0.0    0.0    0.0    0.0    0.0    0.0   \n",
       "1              0.0    0.0    0.0    0.0    0.0    0.0    0.0    0.0    0.0   \n",
       "2              0.0    0.0    0.0    0.0    0.0    0.0    0.0    0.0    0.0   \n",
       "3              0.0    0.0    0.0    0.0    0.0    0.0    0.0    0.0    0.0   \n",
       "4              0.0    0.0    0.0    0.0    0.0    0.0    0.0    0.0    0.0   \n",
       "\n",
       "item_id      12     ...  18485  18486  18487  18488  18489  18490  18491  \\\n",
       "customer_id         ...                                                    \n",
       "0              0.0  ...    0.0    0.0    0.0    0.0    0.0    0.0    0.0   \n",
       "1              0.0  ...    0.0    0.0    0.0    0.0    0.0    0.0    0.0   \n",
       "2              0.0  ...    0.0    0.0    0.0    0.0    0.0    0.0    0.0   \n",
       "3              0.0  ...    0.0    0.0    0.0    0.0    0.0    0.0    0.0   \n",
       "4              0.0  ...    0.0    0.0    0.0    0.0    0.0    0.0    0.0   \n",
       "\n",
       "item_id      18492  18493  18494  \n",
       "customer_id                       \n",
       "0              0.0    0.0    0.0  \n",
       "1              0.0    0.0    0.0  \n",
       "2              0.0    0.0    0.0  \n",
       "3              0.0    0.0    0.0  \n",
       "4              0.0    0.0    0.0  \n",
       "\n",
       "[5 rows x 15277 columns]"
      ]
     },
     "execution_count": 7,
     "metadata": {},
     "output_type": "execute_result"
    }
   ],
   "source": [
    "interactions_pivot.head()"
   ]
  },
  {
   "cell_type": "markdown",
   "metadata": {},
   "source": [
    "**Group tables for more convenient work**"
   ]
  },
  {
   "cell_type": "code",
   "execution_count": 8,
   "metadata": {
    "ExecuteTime": {
     "end_time": "2020-10-14T15:53:06.377242Z",
     "start_time": "2020-10-14T15:53:06.371451Z"
    }
   },
   "outputs": [
    {
     "name": "stdout",
     "output_type": "stream",
     "text": [
      "item_asset shape: (18490, 2), item_price shape: (18493, 2), item_subclass shape: (18495, 3)\n",
      "unique item_id in item_asset shape: 18490, unique item_id in item_price shape: 18493, item_subclass shape: 18495\n"
     ]
    }
   ],
   "source": [
    "print(f'item_asset shape: {item_asset.shape}, item_price shape: {item_price.shape}, \\\n",
    "item_subclass shape: {item_subclass.shape}')\n",
    "\n",
    "print(f'''unique item_id in item_asset shape: {item_asset['item_id'].unique().shape[0]}, \\\n",
    "unique item_id in item_price shape: {item_price['item_id'].unique().shape[0]}, \\\n",
    "item_subclass shape: {item_subclass['item_id'].unique().shape[0]}''')"
   ]
  },
  {
   "cell_type": "code",
   "execution_count": 9,
   "metadata": {
    "ExecuteTime": {
     "end_time": "2020-10-14T15:53:07.715430Z",
     "start_time": "2020-10-14T15:53:07.695266Z"
    }
   },
   "outputs": [
    {
     "name": "stdout",
     "output_type": "stream",
     "text": [
      "items shape: (18488, 5)\n"
     ]
    },
    {
     "data": {
      "text/html": [
       "<div>\n",
       "<style scoped>\n",
       "    .dataframe tbody tr th:only-of-type {\n",
       "        vertical-align: middle;\n",
       "    }\n",
       "\n",
       "    .dataframe tbody tr th {\n",
       "        vertical-align: top;\n",
       "    }\n",
       "\n",
       "    .dataframe thead th {\n",
       "        text-align: right;\n",
       "    }\n",
       "</style>\n",
       "<table border=\"1\" class=\"dataframe\">\n",
       "  <thead>\n",
       "    <tr style=\"text-align: right;\">\n",
       "      <th></th>\n",
       "      <th>item_id</th>\n",
       "      <th>property_item</th>\n",
       "      <th>price_scaled</th>\n",
       "      <th>category_num</th>\n",
       "      <th>category_connection</th>\n",
       "    </tr>\n",
       "  </thead>\n",
       "  <tbody>\n",
       "    <tr>\n",
       "      <th>0</th>\n",
       "      <td>0</td>\n",
       "      <td>0.009497</td>\n",
       "      <td>0.012911</td>\n",
       "      <td>679</td>\n",
       "      <td>1.0</td>\n",
       "    </tr>\n",
       "    <tr>\n",
       "      <th>1</th>\n",
       "      <td>1</td>\n",
       "      <td>0.004226</td>\n",
       "      <td>0.005211</td>\n",
       "      <td>1376</td>\n",
       "      <td>1.0</td>\n",
       "    </tr>\n",
       "    <tr>\n",
       "      <th>2</th>\n",
       "      <td>2</td>\n",
       "      <td>0.003371</td>\n",
       "      <td>0.004131</td>\n",
       "      <td>1495</td>\n",
       "      <td>1.0</td>\n",
       "    </tr>\n",
       "    <tr>\n",
       "      <th>3</th>\n",
       "      <td>3</td>\n",
       "      <td>0.002991</td>\n",
       "      <td>0.003521</td>\n",
       "      <td>502</td>\n",
       "      <td>1.0</td>\n",
       "    </tr>\n",
       "    <tr>\n",
       "      <th>4</th>\n",
       "      <td>4</td>\n",
       "      <td>0.002991</td>\n",
       "      <td>0.003521</td>\n",
       "      <td>502</td>\n",
       "      <td>1.0</td>\n",
       "    </tr>\n",
       "  </tbody>\n",
       "</table>\n",
       "</div>"
      ],
      "text/plain": [
       "   item_id  property_item  price_scaled  category_num  category_connection\n",
       "0        0       0.009497      0.012911           679                  1.0\n",
       "1        1       0.004226      0.005211          1376                  1.0\n",
       "2        2       0.003371      0.004131          1495                  1.0\n",
       "3        3       0.002991      0.003521           502                  1.0\n",
       "4        4       0.002991      0.003521           502                  1.0"
      ]
     },
     "execution_count": 9,
     "metadata": {},
     "output_type": "execute_result"
    }
   ],
   "source": [
    "items = pd.merge(item_asset, item_price, how='inner', on='item_id')\n",
    "items = pd.merge(items, item_subclass, how='inner', on='item_id')\n",
    "print(f'items shape: {items.shape}')\n",
    "items.head()"
   ]
  },
  {
   "cell_type": "markdown",
   "metadata": {},
   "source": [
    "We can see that we got a bit less items than there're all in all but due to their small quantity (18495-18488=7) I'll drop them for simplicity.\n",
    "\n",
    "Of course maybe we should add them in all items and generate their absent features in some way but not today :)"
   ]
  },
  {
   "cell_type": "code",
   "execution_count": 10,
   "metadata": {
    "ExecuteTime": {
     "end_time": "2020-10-14T15:53:10.325581Z",
     "start_time": "2020-10-14T15:53:10.319442Z"
    }
   },
   "outputs": [
    {
     "data": {
      "text/plain": [
       "item_id                0\n",
       "property_item          0\n",
       "price_scaled           0\n",
       "category_num           0\n",
       "category_connection    0\n",
       "dtype: int64"
      ]
     },
     "execution_count": 10,
     "metadata": {},
     "output_type": "execute_result"
    }
   ],
   "source": [
    "items.isna().sum()"
   ]
  },
  {
   "cell_type": "markdown",
   "metadata": {},
   "source": [
    "Cool there're no missing values in items"
   ]
  },
  {
   "cell_type": "code",
   "execution_count": 11,
   "metadata": {
    "ExecuteTime": {
     "end_time": "2020-10-14T15:53:12.644890Z",
     "start_time": "2020-10-14T15:53:12.626977Z"
    }
   },
   "outputs": [
    {
     "name": "stdout",
     "output_type": "stream",
     "text": [
      "user_age shape: (30317, 2), user_region shape: (26609, 3)\n",
      "unique user_id in user_age: 30317,       unique iser_id in user_region: 26375\n",
      "users shape: (25781, 4)\n"
     ]
    },
    {
     "data": {
      "text/html": [
       "<div>\n",
       "<style scoped>\n",
       "    .dataframe tbody tr th:only-of-type {\n",
       "        vertical-align: middle;\n",
       "    }\n",
       "\n",
       "    .dataframe tbody tr th {\n",
       "        vertical-align: top;\n",
       "    }\n",
       "\n",
       "    .dataframe thead th {\n",
       "        text-align: right;\n",
       "    }\n",
       "</style>\n",
       "<table border=\"1\" class=\"dataframe\">\n",
       "  <thead>\n",
       "    <tr style=\"text-align: right;\">\n",
       "      <th></th>\n",
       "      <th>customer_id</th>\n",
       "      <th>age_scaled</th>\n",
       "      <th>region_ohe_position</th>\n",
       "      <th>region_feat</th>\n",
       "    </tr>\n",
       "  </thead>\n",
       "  <tbody>\n",
       "    <tr>\n",
       "      <th>0</th>\n",
       "      <td>2</td>\n",
       "      <td>1.0</td>\n",
       "      <td>5</td>\n",
       "      <td>1.0</td>\n",
       "    </tr>\n",
       "    <tr>\n",
       "      <th>1</th>\n",
       "      <td>7</td>\n",
       "      <td>1.0</td>\n",
       "      <td>6</td>\n",
       "      <td>1.0</td>\n",
       "    </tr>\n",
       "    <tr>\n",
       "      <th>2</th>\n",
       "      <td>10</td>\n",
       "      <td>1.0</td>\n",
       "      <td>7</td>\n",
       "      <td>1.0</td>\n",
       "    </tr>\n",
       "    <tr>\n",
       "      <th>3</th>\n",
       "      <td>12</td>\n",
       "      <td>1.0</td>\n",
       "      <td>7</td>\n",
       "      <td>1.0</td>\n",
       "    </tr>\n",
       "    <tr>\n",
       "      <th>4</th>\n",
       "      <td>13</td>\n",
       "      <td>1.0</td>\n",
       "      <td>7</td>\n",
       "      <td>1.0</td>\n",
       "    </tr>\n",
       "  </tbody>\n",
       "</table>\n",
       "</div>"
      ],
      "text/plain": [
       "   customer_id  age_scaled  region_ohe_position  region_feat\n",
       "0            2         1.0                    5          1.0\n",
       "1            7         1.0                    6          1.0\n",
       "2           10         1.0                    7          1.0\n",
       "3           12         1.0                    7          1.0\n",
       "4           13         1.0                    7          1.0"
      ]
     },
     "execution_count": 11,
     "metadata": {},
     "output_type": "execute_result"
    }
   ],
   "source": [
    "print(f'user_age shape: {user_age.shape}, user_region shape: {user_region.shape}')\n",
    "print(f'''unique user_id in user_age: {user_age['customer_id'].unique().shape[0]}, \\\n",
    "      unique iser_id in user_region: {user_region['customer_id'].unique().shape[0]}''')\n",
    "\n",
    "users = pd.merge(user_age, user_region, how='inner', on='customer_id')\n",
    "print(f'users shape: {users.shape}')\n",
    "users.head()"
   ]
  },
  {
   "cell_type": "code",
   "execution_count": 12,
   "metadata": {
    "ExecuteTime": {
     "end_time": "2020-10-14T15:53:17.002445Z",
     "start_time": "2020-10-14T15:53:16.997036Z"
    }
   },
   "outputs": [
    {
     "data": {
      "text/plain": [
       "customer_id            0\n",
       "age_scaled             0\n",
       "region_ohe_position    0\n",
       "region_feat            0\n",
       "dtype: int64"
      ]
     },
     "execution_count": 12,
     "metadata": {},
     "output_type": "execute_result"
    }
   ],
   "source": [
    "users.isna().sum()"
   ]
  },
  {
   "cell_type": "markdown",
   "metadata": {},
   "source": [
    "Cool there're no missing values in users"
   ]
  },
  {
   "cell_type": "markdown",
   "metadata": {},
   "source": [
    "### Little preprocessing"
   ]
  },
  {
   "cell_type": "code",
   "execution_count": 13,
   "metadata": {
    "ExecuteTime": {
     "end_time": "2020-10-14T15:53:24.245183Z",
     "start_time": "2020-10-14T15:53:24.224683Z"
    }
   },
   "outputs": [
    {
     "name": "stdout",
     "output_type": "stream",
     "text": [
      " Cnt cold users: 3027, cnt warm users without features: 4501\n",
      " Cnt cold items: 3217, cnt warm items without features: 6\n"
     ]
    }
   ],
   "source": [
    "users_interact_id = set(interactions['customer_id'].unique())\n",
    "users_info_id = set(users['customer_id'].unique())\n",
    "print(f' Cnt cold users: {len(users_info_id - users_interact_id)}, \\\n",
    "cnt warm users without features: {len(users_interact_id - users_info_id)}')\n",
    "\n",
    "items_interact_id = set(interactions['item_id'].unique())\n",
    "items_info_id = set(items['item_id'].unique())\n",
    "print(f' Cnt cold items: {len(items_info_id - items_interact_id)}, \\\n",
    "cnt warm items without features: {len(items_interact_id - items_info_id)}')"
   ]
  },
  {
   "cell_type": "markdown",
   "metadata": {},
   "source": [
    "**Get cold users and items apart and create recommendations for cold users**\n",
    "\n",
    "Cold items are useless for metrics maximization so how treat them depends on real situation and business case but for now let's just keep them apart.\n",
    "\n",
    "Cold users have to get rankings of items. One of the popular case is recommending popular items (also we can add some random items just to gather info). I'll use this approach, it's also good due to quite bad user's features due to them we cannot create good recommender system giving predictions based on user's contents"
   ]
  },
  {
   "cell_type": "code",
   "execution_count": 14,
   "metadata": {
    "ExecuteTime": {
     "end_time": "2020-10-14T15:53:37.866636Z",
     "start_time": "2020-10-14T15:53:37.862063Z"
    }
   },
   "outputs": [],
   "source": [
    "users_cold = users_info_id - users_interact_id\n",
    "items_cold = items_info_id - items_interact_id "
   ]
  },
  {
   "cell_type": "code",
   "execution_count": 16,
   "metadata": {
    "ExecuteTime": {
     "end_time": "2020-10-14T15:54:17.797786Z",
     "start_time": "2020-10-14T15:54:17.410656Z"
    }
   },
   "outputs": [
    {
     "data": {
      "text/plain": [
       "(27255,)"
      ]
     },
     "execution_count": 16,
     "metadata": {},
     "output_type": "execute_result"
    }
   ],
   "source": [
    "interactions_pivot.to_numpy().sum(axis=1).shape"
   ]
  },
  {
   "cell_type": "code",
   "execution_count": 17,
   "metadata": {
    "ExecuteTime": {
     "end_time": "2020-10-14T15:54:36.176890Z",
     "start_time": "2020-10-14T15:54:35.808273Z"
    }
   },
   "outputs": [
    {
     "data": {
      "text/plain": [
       "array([14846,  6939,  4217,  8214,  3873,   155,  7211,  8421,  3337,\n",
       "        3660])"
      ]
     },
     "execution_count": 17,
     "metadata": {},
     "output_type": "execute_result"
    }
   ],
   "source": [
    "popular_items = interactions_pivot.to_numpy().sum(axis=0)\n",
    "popular_items_top_10 = np.argsort(popular_items)[:-11:-1]\n",
    "popular_items_top_10"
   ]
  },
  {
   "cell_type": "code",
   "execution_count": 18,
   "metadata": {
    "ExecuteTime": {
     "end_time": "2020-10-14T15:54:42.776283Z",
     "start_time": "2020-10-14T15:54:42.766518Z"
    }
   },
   "outputs": [],
   "source": [
    "#for cold users take popular items\n",
    "cold_users_recommendation = {}\n",
    "for user in users_cold:\n",
    "    cold_users_recommendation[user] = list(popular_items_top_10)"
   ]
  },
  {
   "cell_type": "code",
   "execution_count": 19,
   "metadata": {
    "ExecuteTime": {
     "end_time": "2020-10-14T15:54:49.161174Z",
     "start_time": "2020-10-14T15:54:49.153753Z"
    }
   },
   "outputs": [],
   "source": [
    "#drop cold users and items\n",
    "users = users[~users['customer_id'].isin(users_cold)]\n",
    "items = items[~items['item_id'].isin(items_cold)]"
   ]
  },
  {
   "cell_type": "markdown",
   "metadata": {},
   "source": [
    "Here's warm users without features.\n",
    "<br>\n",
    "Let's use ANN to find k nearest neighbors and take their features for warm users without them (if k=1 then it's clear, else if k > 1 then we can aggregate feature's values in some ways)\n",
    "\n",
    "The same is for items"
   ]
  },
  {
   "cell_type": "markdown",
   "metadata": {},
   "source": [
    "### Approximate NN"
   ]
  },
  {
   "cell_type": "code",
   "execution_count": 20,
   "metadata": {
    "ExecuteTime": {
     "end_time": "2020-10-14T15:55:03.604544Z",
     "start_time": "2020-10-14T15:55:03.594427Z"
    }
   },
   "outputs": [],
   "source": [
    "def get_nearest_neighbors(train, test, k_neigh=1, id_name='user_id'):\n",
    "    '''\n",
    "    Fit NearestNeighbors model and return dataframe with neighbors\n",
    "    \n",
    "    Parameters:\n",
    "        train - numpy array to be fitted\n",
    "        test - numpy array for which neighbors are searched.\n",
    "        !! the 1-st column of train and test is obliged to be 'user_id' or smth like that !!\n",
    "        k_neigh - number of neighbors to be found\n",
    "        id_name - name of objects (like 'users_id', 'item_id' etc)\n",
    "        \n",
    "    Return dataframe of id, number of neigh, id of neigh (from train), dist to neigh\n",
    "    '''\n",
    "    \n",
    "    #fit model\n",
    "    knn = NearestNeighbors(k_neigh, n_jobs=-1, leaf_size=K_NEIGH*20, algorithm='kd_tree')\n",
    "    knn.fit(train[:, 1:])\n",
    "    \n",
    "    #get dist and indxs of neighbors\n",
    "    dist, indxs = knn.kneighbors(test[:, 1:], k_neigh)\n",
    "    \n",
    "    ##get neighbors##\n",
    "    #get id from train which are neighbors to id in test\n",
    "    kneighbors = train[:,0][indxs]\n",
    "    \n",
    "    #create a convenient form to work with\n",
    "    cold_neighbors = np.hstack([test[:, 0].reshape(-1,1), kneighbors])\n",
    "    df = pd.DataFrame(cold_neighbors, columns=[id_name] + [i for i in range(1, k_neigh+1)])\n",
    "    \n",
    "    #make some columns as rows (it allows to join in a more convenient way furthere on need)\n",
    "    df_unstack = df.melt(id_vars=[id_name], value_name=f'{id_name}_neigh', var_name='number_neigh')\n",
    "    df_unstack = df_unstack.sort_values([id_name, 'number_neigh']).reset_index(drop=True)\n",
    "    \n",
    "    #put distance to neighbors in dataframe\n",
    "    df_unstack['dist_neigh'] = dist.reshape(-1, 1)\n",
    "    \n",
    "    return df_unstack"
   ]
  },
  {
   "cell_type": "markdown",
   "metadata": {},
   "source": [
    "**Users**"
   ]
  },
  {
   "cell_type": "code",
   "execution_count": 21,
   "metadata": {
    "ExecuteTime": {
     "end_time": "2020-10-14T15:55:10.989674Z",
     "start_time": "2020-10-14T15:55:07.265755Z"
    }
   },
   "outputs": [],
   "source": [
    "train = interactions_pivot[~(interactions_pivot.index.isin(users_interact_id - users_info_id))]\n",
    "#keep users_id\n",
    "train_id = np.array(train.index)\n",
    "\n",
    "train = train.to_numpy()\n",
    "#add users_id to get abonents furthere\n",
    "train = np.hstack([train_id.reshape(-1, 1), train])"
   ]
  },
  {
   "cell_type": "code",
   "execution_count": 22,
   "metadata": {
    "ExecuteTime": {
     "end_time": "2020-10-14T15:55:12.050479Z",
     "start_time": "2020-10-14T15:55:10.991983Z"
    }
   },
   "outputs": [],
   "source": [
    "test = interactions_pivot[(interactions_pivot.index.isin(users_interact_id - users_info_id))]\n",
    "#keep users_id\n",
    "test_id = np.array(test.index)\n",
    "test = test.to_numpy()\n",
    "\n",
    "#add users_id to get abonents furthere\n",
    "test = np.hstack([test_id.reshape(-1, 1), test])"
   ]
  },
  {
   "cell_type": "code",
   "execution_count": 23,
   "metadata": {
    "ExecuteTime": {
     "end_time": "2020-10-14T15:58:31.365009Z",
     "start_time": "2020-10-14T15:55:12.052614Z"
    }
   },
   "outputs": [
    {
     "name": "stdout",
     "output_type": "stream",
     "text": [
      "CPU times: user 2h 3min 48s, sys: 1min 11s, total: 2h 4min 59s\n",
      "Wall time: 3min 19s\n"
     ]
    }
   ],
   "source": [
    "%%time\n",
    "#let's now use the simplest version and find 1 neighbor\n",
    "K_NEIGH = 1\n",
    "users_neigh = get_nearest_neighbors(train, test, K_NEIGH, 'customer_id')"
   ]
  },
  {
   "cell_type": "code",
   "execution_count": 24,
   "metadata": {
    "ExecuteTime": {
     "end_time": "2020-10-14T15:58:31.377161Z",
     "start_time": "2020-10-14T15:58:31.367347Z"
    }
   },
   "outputs": [
    {
     "name": "stdout",
     "output_type": "stream",
     "text": [
      "(4501, 4)\n"
     ]
    },
    {
     "data": {
      "text/html": [
       "<div>\n",
       "<style scoped>\n",
       "    .dataframe tbody tr th:only-of-type {\n",
       "        vertical-align: middle;\n",
       "    }\n",
       "\n",
       "    .dataframe tbody tr th {\n",
       "        vertical-align: top;\n",
       "    }\n",
       "\n",
       "    .dataframe thead th {\n",
       "        text-align: right;\n",
       "    }\n",
       "</style>\n",
       "<table border=\"1\" class=\"dataframe\">\n",
       "  <thead>\n",
       "    <tr style=\"text-align: right;\">\n",
       "      <th></th>\n",
       "      <th>customer_id</th>\n",
       "      <th>number_neigh</th>\n",
       "      <th>customer_id_neigh</th>\n",
       "      <th>dist_neigh</th>\n",
       "    </tr>\n",
       "  </thead>\n",
       "  <tbody>\n",
       "    <tr>\n",
       "      <th>0</th>\n",
       "      <td>0.0</td>\n",
       "      <td>1</td>\n",
       "      <td>18488.0</td>\n",
       "      <td>2.236068</td>\n",
       "    </tr>\n",
       "    <tr>\n",
       "      <th>1</th>\n",
       "      <td>1.0</td>\n",
       "      <td>1</td>\n",
       "      <td>6898.0</td>\n",
       "      <td>2.236068</td>\n",
       "    </tr>\n",
       "    <tr>\n",
       "      <th>2</th>\n",
       "      <td>3.0</td>\n",
       "      <td>1</td>\n",
       "      <td>432.0</td>\n",
       "      <td>1.414214</td>\n",
       "    </tr>\n",
       "  </tbody>\n",
       "</table>\n",
       "</div>"
      ],
      "text/plain": [
       "   customer_id number_neigh  customer_id_neigh  dist_neigh\n",
       "0          0.0            1            18488.0    2.236068\n",
       "1          1.0            1             6898.0    2.236068\n",
       "2          3.0            1              432.0    1.414214"
      ]
     },
     "execution_count": 24,
     "metadata": {},
     "output_type": "execute_result"
    }
   ],
   "source": [
    "print(users_neigh.shape)\n",
    "users_neigh.head(3)"
   ]
  },
  {
   "cell_type": "markdown",
   "metadata": {},
   "source": [
    "**Filling features for users without features**\n",
    "\n",
    "Let's fill users table with features for those users and items that hadn't features before"
   ]
  },
  {
   "cell_type": "code",
   "execution_count": 25,
   "metadata": {
    "ExecuteTime": {
     "end_time": "2020-10-14T15:58:31.381678Z",
     "start_time": "2020-10-14T15:58:31.378459Z"
    }
   },
   "outputs": [],
   "source": [
    "users_neigh['customer_id'] = users_neigh['customer_id'].astype(int)\n",
    "users_neigh['customer_id_neigh'] = users_neigh['customer_id_neigh'].astype(int)"
   ]
  },
  {
   "cell_type": "code",
   "execution_count": 26,
   "metadata": {
    "ExecuteTime": {
     "end_time": "2020-10-14T15:58:31.397318Z",
     "start_time": "2020-10-14T15:58:31.383411Z"
    }
   },
   "outputs": [
    {
     "data": {
      "text/html": [
       "<div>\n",
       "<style scoped>\n",
       "    .dataframe tbody tr th:only-of-type {\n",
       "        vertical-align: middle;\n",
       "    }\n",
       "\n",
       "    .dataframe tbody tr th {\n",
       "        vertical-align: top;\n",
       "    }\n",
       "\n",
       "    .dataframe thead th {\n",
       "        text-align: right;\n",
       "    }\n",
       "</style>\n",
       "<table border=\"1\" class=\"dataframe\">\n",
       "  <thead>\n",
       "    <tr style=\"text-align: right;\">\n",
       "      <th></th>\n",
       "      <th>age_scaled</th>\n",
       "      <th>region_ohe_position</th>\n",
       "      <th>region_feat</th>\n",
       "      <th>customer_id</th>\n",
       "    </tr>\n",
       "  </thead>\n",
       "  <tbody>\n",
       "    <tr>\n",
       "      <th>0</th>\n",
       "      <td>1.0</td>\n",
       "      <td>6</td>\n",
       "      <td>1.0</td>\n",
       "      <td>6460</td>\n",
       "    </tr>\n",
       "    <tr>\n",
       "      <th>1</th>\n",
       "      <td>1.0</td>\n",
       "      <td>7</td>\n",
       "      <td>1.0</td>\n",
       "      <td>4071</td>\n",
       "    </tr>\n",
       "  </tbody>\n",
       "</table>\n",
       "</div>"
      ],
      "text/plain": [
       "   age_scaled  region_ohe_position  region_feat  customer_id\n",
       "0         1.0                    6          1.0         6460\n",
       "1         1.0                    7          1.0         4071"
      ]
     },
     "execution_count": 26,
     "metadata": {},
     "output_type": "execute_result"
    }
   ],
   "source": [
    "#get features for users without them based of ther neighbors features\n",
    "users_temp = pd.merge(users, users_neigh, left_on='customer_id', right_on='customer_id_neigh')\n",
    "users_temp = users_temp.drop(['customer_id_x', 'number_neigh', 'dist_neigh', 'customer_id_neigh'], axis=1)\n",
    "users_temp = users_temp.rename(columns={'customer_id_y': 'customer_id'})\n",
    "users_temp.head(2)"
   ]
  },
  {
   "cell_type": "code",
   "execution_count": 27,
   "metadata": {
    "ExecuteTime": {
     "end_time": "2020-10-14T15:58:31.405381Z",
     "start_time": "2020-10-14T15:58:31.399325Z"
    }
   },
   "outputs": [
    {
     "data": {
      "text/html": [
       "<div>\n",
       "<style scoped>\n",
       "    .dataframe tbody tr th:only-of-type {\n",
       "        vertical-align: middle;\n",
       "    }\n",
       "\n",
       "    .dataframe tbody tr th {\n",
       "        vertical-align: top;\n",
       "    }\n",
       "\n",
       "    .dataframe thead th {\n",
       "        text-align: right;\n",
       "    }\n",
       "</style>\n",
       "<table border=\"1\" class=\"dataframe\">\n",
       "  <thead>\n",
       "    <tr style=\"text-align: right;\">\n",
       "      <th></th>\n",
       "      <th>customer_id</th>\n",
       "      <th>age_scaled</th>\n",
       "      <th>region_ohe_position</th>\n",
       "      <th>region_feat</th>\n",
       "    </tr>\n",
       "  </thead>\n",
       "  <tbody>\n",
       "    <tr>\n",
       "      <th>0</th>\n",
       "      <td>2</td>\n",
       "      <td>1.0</td>\n",
       "      <td>5</td>\n",
       "      <td>1.0</td>\n",
       "    </tr>\n",
       "    <tr>\n",
       "      <th>1</th>\n",
       "      <td>7</td>\n",
       "      <td>1.0</td>\n",
       "      <td>6</td>\n",
       "      <td>1.0</td>\n",
       "    </tr>\n",
       "  </tbody>\n",
       "</table>\n",
       "</div>"
      ],
      "text/plain": [
       "   customer_id  age_scaled  region_ohe_position  region_feat\n",
       "0            2         1.0                    5          1.0\n",
       "1            7         1.0                    6          1.0"
      ]
     },
     "execution_count": 27,
     "metadata": {},
     "output_type": "execute_result"
    }
   ],
   "source": [
    "users.head(2)"
   ]
  },
  {
   "cell_type": "code",
   "execution_count": 28,
   "metadata": {
    "ExecuteTime": {
     "end_time": "2020-10-14T15:58:31.412230Z",
     "start_time": "2020-10-14T15:58:31.407221Z"
    }
   },
   "outputs": [
    {
     "name": "stdout",
     "output_type": "stream",
     "text": [
      "Users shape was:(22754, 4), new users with features shape: (4501, 4)\n",
      "Users shape become: (27255, 4)\n"
     ]
    }
   ],
   "source": [
    "print(f'Users shape was:{users.shape}, new users with features shape: {users_temp.shape}')\n",
    "users = pd.concat([users, users_temp])\n",
    "print(f'Users shape become: {users.shape}')"
   ]
  },
  {
   "cell_type": "code",
   "execution_count": 29,
   "metadata": {
    "ExecuteTime": {
     "end_time": "2020-10-14T15:58:31.416886Z",
     "start_time": "2020-10-14T15:58:31.413812Z"
    }
   },
   "outputs": [
    {
     "name": "stdout",
     "output_type": "stream",
     "text": [
      "Cnt unique\n",
      "age_scaled: 1,       region_ohe_position: 6,       region_feat: 1\n"
     ]
    }
   ],
   "source": [
    "print(f'Cnt unique')\n",
    "print(f'''age_scaled: {users['age_scaled'].unique().shape[0]}, \\\n",
    "      region_ohe_position: {users['region_ohe_position'].unique().shape[0]}, \\\n",
    "      region_feat: {users['region_feat'].unique().shape[0]}''')"
   ]
  },
  {
   "cell_type": "markdown",
   "metadata": {},
   "source": [
    "Hm, seems age_scaled and region_feat are unnecessary, let's drop them\n",
    "\n",
    "Also, we have region_ohe_position, let's decode it in len(unique region_ohe_position) columns like true one-hot"
   ]
  },
  {
   "cell_type": "code",
   "execution_count": 30,
   "metadata": {
    "ExecuteTime": {
     "end_time": "2020-10-14T15:58:31.421978Z",
     "start_time": "2020-10-14T15:58:31.418165Z"
    }
   },
   "outputs": [],
   "source": [
    "users = users[['customer_id', 'region_ohe_position']]"
   ]
  },
  {
   "cell_type": "code",
   "execution_count": 31,
   "metadata": {
    "ExecuteTime": {
     "end_time": "2020-10-14T15:58:31.426764Z",
     "start_time": "2020-10-14T15:58:31.423242Z"
    }
   },
   "outputs": [
    {
     "data": {
      "text/plain": [
       "array([5, 6, 7, 4, 2, 3])"
      ]
     },
     "execution_count": 31,
     "metadata": {},
     "output_type": "execute_result"
    }
   ],
   "source": [
    "users['region_ohe_position'].unique()"
   ]
  },
  {
   "cell_type": "code",
   "execution_count": 32,
   "metadata": {
    "ExecuteTime": {
     "end_time": "2020-10-14T15:58:31.434860Z",
     "start_time": "2020-10-14T15:58:31.428053Z"
    }
   },
   "outputs": [],
   "source": [
    "unique_cols = users['region_ohe_position'].unique()\n",
    "for i in unique_cols:\n",
    "    users[f'region_{i}'] = np.where(users['region_ohe_position']==i, 1, 0)"
   ]
  },
  {
   "cell_type": "code",
   "execution_count": 33,
   "metadata": {
    "ExecuteTime": {
     "end_time": "2020-10-14T15:58:31.441101Z",
     "start_time": "2020-10-14T15:58:31.436095Z"
    }
   },
   "outputs": [],
   "source": [
    "users = users.drop(['region_ohe_position'], axis=1)"
   ]
  },
  {
   "cell_type": "code",
   "execution_count": 34,
   "metadata": {
    "ExecuteTime": {
     "end_time": "2020-10-14T15:58:31.449672Z",
     "start_time": "2020-10-14T15:58:31.443641Z"
    }
   },
   "outputs": [
    {
     "data": {
      "text/html": [
       "<div>\n",
       "<style scoped>\n",
       "    .dataframe tbody tr th:only-of-type {\n",
       "        vertical-align: middle;\n",
       "    }\n",
       "\n",
       "    .dataframe tbody tr th {\n",
       "        vertical-align: top;\n",
       "    }\n",
       "\n",
       "    .dataframe thead th {\n",
       "        text-align: right;\n",
       "    }\n",
       "</style>\n",
       "<table border=\"1\" class=\"dataframe\">\n",
       "  <thead>\n",
       "    <tr style=\"text-align: right;\">\n",
       "      <th></th>\n",
       "      <th>customer_id</th>\n",
       "      <th>region_5</th>\n",
       "      <th>region_6</th>\n",
       "      <th>region_7</th>\n",
       "      <th>region_4</th>\n",
       "      <th>region_2</th>\n",
       "      <th>region_3</th>\n",
       "    </tr>\n",
       "  </thead>\n",
       "  <tbody>\n",
       "    <tr>\n",
       "      <th>0</th>\n",
       "      <td>2</td>\n",
       "      <td>1</td>\n",
       "      <td>0</td>\n",
       "      <td>0</td>\n",
       "      <td>0</td>\n",
       "      <td>0</td>\n",
       "      <td>0</td>\n",
       "    </tr>\n",
       "    <tr>\n",
       "      <th>1</th>\n",
       "      <td>7</td>\n",
       "      <td>0</td>\n",
       "      <td>1</td>\n",
       "      <td>0</td>\n",
       "      <td>0</td>\n",
       "      <td>0</td>\n",
       "      <td>0</td>\n",
       "    </tr>\n",
       "    <tr>\n",
       "      <th>2</th>\n",
       "      <td>10</td>\n",
       "      <td>0</td>\n",
       "      <td>0</td>\n",
       "      <td>1</td>\n",
       "      <td>0</td>\n",
       "      <td>0</td>\n",
       "      <td>0</td>\n",
       "    </tr>\n",
       "  </tbody>\n",
       "</table>\n",
       "</div>"
      ],
      "text/plain": [
       "   customer_id  region_5  region_6  region_7  region_4  region_2  region_3\n",
       "0            2         1         0         0         0         0         0\n",
       "1            7         0         1         0         0         0         0\n",
       "2           10         0         0         1         0         0         0"
      ]
     },
     "execution_count": 34,
     "metadata": {},
     "output_type": "execute_result"
    }
   ],
   "source": [
    "users.head(3)"
   ]
  },
  {
   "cell_type": "markdown",
   "metadata": {},
   "source": [
    "**Items**"
   ]
  },
  {
   "cell_type": "code",
   "execution_count": 35,
   "metadata": {
    "ExecuteTime": {
     "end_time": "2020-10-14T15:58:36.815535Z",
     "start_time": "2020-10-14T15:58:31.451214Z"
    }
   },
   "outputs": [],
   "source": [
    "##!!Attention: T is used to get item_is by index\n",
    "\n",
    "train = interactions_pivot.T[~(interactions_pivot.T.index.isin(items_interact_id - items_info_id))]\n",
    "#keep users_id\n",
    "train_id = np.array(train.index)\n",
    "\n",
    "train = train.to_numpy()\n",
    "#add users_id to get abonents furthere\n",
    "train = np.hstack([train_id.reshape(-1, 1), train])"
   ]
  },
  {
   "cell_type": "code",
   "execution_count": 36,
   "metadata": {
    "ExecuteTime": {
     "end_time": "2020-10-14T15:58:36.868979Z",
     "start_time": "2020-10-14T15:58:36.817566Z"
    }
   },
   "outputs": [],
   "source": [
    "test = interactions_pivot.T[(interactions_pivot.T.index.isin(items_interact_id - items_info_id))]\n",
    "#keep users_id\n",
    "test_id = np.array(test.index)\n",
    "test = test.to_numpy()\n",
    "\n",
    "#add users_id to get abonents furthere\n",
    "test = np.hstack([test_id.reshape(-1, 1), test])"
   ]
  },
  {
   "cell_type": "code",
   "execution_count": 37,
   "metadata": {
    "ExecuteTime": {
     "end_time": "2020-10-14T15:59:53.770713Z",
     "start_time": "2020-10-14T15:58:36.870529Z"
    }
   },
   "outputs": [
    {
     "name": "stdout",
     "output_type": "stream",
     "text": [
      "CPU times: user 1min 18s, sys: 4.82 s, total: 1min 23s\n",
      "Wall time: 1min 16s\n"
     ]
    }
   ],
   "source": [
    "%%time\n",
    "#let's now use the simplest version and find 1 neighbor\n",
    "K_NEIGH = 1\n",
    "items_neigh = get_nearest_neighbors(train, test, K_NEIGH, 'item_id')"
   ]
  },
  {
   "cell_type": "code",
   "execution_count": 38,
   "metadata": {
    "ExecuteTime": {
     "end_time": "2020-10-14T15:59:53.782512Z",
     "start_time": "2020-10-14T15:59:53.772758Z"
    }
   },
   "outputs": [
    {
     "name": "stdout",
     "output_type": "stream",
     "text": [
      "(6, 4)\n"
     ]
    },
    {
     "data": {
      "text/html": [
       "<div>\n",
       "<style scoped>\n",
       "    .dataframe tbody tr th:only-of-type {\n",
       "        vertical-align: middle;\n",
       "    }\n",
       "\n",
       "    .dataframe tbody tr th {\n",
       "        vertical-align: top;\n",
       "    }\n",
       "\n",
       "    .dataframe thead th {\n",
       "        text-align: right;\n",
       "    }\n",
       "</style>\n",
       "<table border=\"1\" class=\"dataframe\">\n",
       "  <thead>\n",
       "    <tr style=\"text-align: right;\">\n",
       "      <th></th>\n",
       "      <th>item_id</th>\n",
       "      <th>number_neigh</th>\n",
       "      <th>item_id_neigh</th>\n",
       "      <th>dist_neigh</th>\n",
       "    </tr>\n",
       "  </thead>\n",
       "  <tbody>\n",
       "    <tr>\n",
       "      <th>0</th>\n",
       "      <td>3513.0</td>\n",
       "      <td>1</td>\n",
       "      <td>41.0</td>\n",
       "      <td>1.732051</td>\n",
       "    </tr>\n",
       "    <tr>\n",
       "      <th>1</th>\n",
       "      <td>10260.0</td>\n",
       "      <td>1</td>\n",
       "      <td>10629.0</td>\n",
       "      <td>3.872983</td>\n",
       "    </tr>\n",
       "    <tr>\n",
       "      <th>2</th>\n",
       "      <td>15387.0</td>\n",
       "      <td>1</td>\n",
       "      <td>12074.0</td>\n",
       "      <td>2.000000</td>\n",
       "    </tr>\n",
       "  </tbody>\n",
       "</table>\n",
       "</div>"
      ],
      "text/plain": [
       "   item_id number_neigh  item_id_neigh  dist_neigh\n",
       "0   3513.0            1           41.0    1.732051\n",
       "1  10260.0            1        10629.0    3.872983\n",
       "2  15387.0            1        12074.0    2.000000"
      ]
     },
     "execution_count": 38,
     "metadata": {},
     "output_type": "execute_result"
    }
   ],
   "source": [
    "print(items_neigh.shape)\n",
    "items_neigh.head(3)"
   ]
  },
  {
   "cell_type": "markdown",
   "metadata": {},
   "source": [
    "**Filling features for items without features**\n",
    "\n",
    "Like for users"
   ]
  },
  {
   "cell_type": "code",
   "execution_count": 39,
   "metadata": {
    "ExecuteTime": {
     "end_time": "2020-10-14T15:59:53.786814Z",
     "start_time": "2020-10-14T15:59:53.783844Z"
    }
   },
   "outputs": [],
   "source": [
    "items_neigh['item_id'] = items_neigh['item_id'].astype(int)\n",
    "items_neigh['item_id_neigh'] = items_neigh['item_id_neigh'].astype(int)"
   ]
  },
  {
   "cell_type": "code",
   "execution_count": 40,
   "metadata": {
    "ExecuteTime": {
     "end_time": "2020-10-14T15:59:53.794328Z",
     "start_time": "2020-10-14T15:59:53.788111Z"
    }
   },
   "outputs": [
    {
     "data": {
      "text/html": [
       "<div>\n",
       "<style scoped>\n",
       "    .dataframe tbody tr th:only-of-type {\n",
       "        vertical-align: middle;\n",
       "    }\n",
       "\n",
       "    .dataframe tbody tr th {\n",
       "        vertical-align: top;\n",
       "    }\n",
       "\n",
       "    .dataframe thead th {\n",
       "        text-align: right;\n",
       "    }\n",
       "</style>\n",
       "<table border=\"1\" class=\"dataframe\">\n",
       "  <thead>\n",
       "    <tr style=\"text-align: right;\">\n",
       "      <th></th>\n",
       "      <th>item_id</th>\n",
       "      <th>property_item</th>\n",
       "      <th>price_scaled</th>\n",
       "      <th>category_num</th>\n",
       "      <th>category_connection</th>\n",
       "    </tr>\n",
       "  </thead>\n",
       "  <tbody>\n",
       "    <tr>\n",
       "      <th>0</th>\n",
       "      <td>0</td>\n",
       "      <td>0.009497</td>\n",
       "      <td>0.012911</td>\n",
       "      <td>679</td>\n",
       "      <td>1.0</td>\n",
       "    </tr>\n",
       "    <tr>\n",
       "      <th>2</th>\n",
       "      <td>2</td>\n",
       "      <td>0.003371</td>\n",
       "      <td>0.004131</td>\n",
       "      <td>1495</td>\n",
       "      <td>1.0</td>\n",
       "    </tr>\n",
       "  </tbody>\n",
       "</table>\n",
       "</div>"
      ],
      "text/plain": [
       "   item_id  property_item  price_scaled  category_num  category_connection\n",
       "0        0       0.009497      0.012911           679                  1.0\n",
       "2        2       0.003371      0.004131          1495                  1.0"
      ]
     },
     "execution_count": 40,
     "metadata": {},
     "output_type": "execute_result"
    }
   ],
   "source": [
    "items.head(2)"
   ]
  },
  {
   "cell_type": "code",
   "execution_count": 41,
   "metadata": {
    "ExecuteTime": {
     "end_time": "2020-10-14T15:59:53.808838Z",
     "start_time": "2020-10-14T15:59:53.795628Z"
    }
   },
   "outputs": [
    {
     "data": {
      "text/html": [
       "<div>\n",
       "<style scoped>\n",
       "    .dataframe tbody tr th:only-of-type {\n",
       "        vertical-align: middle;\n",
       "    }\n",
       "\n",
       "    .dataframe tbody tr th {\n",
       "        vertical-align: top;\n",
       "    }\n",
       "\n",
       "    .dataframe thead th {\n",
       "        text-align: right;\n",
       "    }\n",
       "</style>\n",
       "<table border=\"1\" class=\"dataframe\">\n",
       "  <thead>\n",
       "    <tr style=\"text-align: right;\">\n",
       "      <th></th>\n",
       "      <th>property_item</th>\n",
       "      <th>price_scaled</th>\n",
       "      <th>category_num</th>\n",
       "      <th>category_connection</th>\n",
       "      <th>item_id</th>\n",
       "    </tr>\n",
       "  </thead>\n",
       "  <tbody>\n",
       "    <tr>\n",
       "      <th>0</th>\n",
       "      <td>0.002849</td>\n",
       "      <td>0.003521</td>\n",
       "      <td>1817</td>\n",
       "      <td>1.0</td>\n",
       "      <td>3513</td>\n",
       "    </tr>\n",
       "    <tr>\n",
       "      <th>1</th>\n",
       "      <td>0.001472</td>\n",
       "      <td>0.002160</td>\n",
       "      <td>855</td>\n",
       "      <td>1.0</td>\n",
       "      <td>15391</td>\n",
       "    </tr>\n",
       "  </tbody>\n",
       "</table>\n",
       "</div>"
      ],
      "text/plain": [
       "   property_item  price_scaled  category_num  category_connection  item_id\n",
       "0       0.002849      0.003521          1817                  1.0     3513\n",
       "1       0.001472      0.002160           855                  1.0    15391"
      ]
     },
     "execution_count": 41,
     "metadata": {},
     "output_type": "execute_result"
    }
   ],
   "source": [
    "#get features for items without them based of ther neighbors features\n",
    "items_temp = pd.merge(items, items_neigh, left_on='item_id', right_on='item_id_neigh')\n",
    "items_temp = items_temp.drop(['item_id_x', 'number_neigh', 'dist_neigh', 'item_id_neigh'], axis=1)\n",
    "items_temp = items_temp.rename(columns={'item_id_y': 'item_id'})\n",
    "items_temp.head(2)"
   ]
  },
  {
   "cell_type": "code",
   "execution_count": 42,
   "metadata": {
    "ExecuteTime": {
     "end_time": "2020-10-14T15:59:53.815323Z",
     "start_time": "2020-10-14T15:59:53.810173Z"
    }
   },
   "outputs": [
    {
     "name": "stdout",
     "output_type": "stream",
     "text": [
      "items shape was:(15271, 5), new items with features shape: (6, 5)\n",
      "items shape become: (15277, 5)\n"
     ]
    }
   ],
   "source": [
    "print(f'items shape was:{items.shape}, new items with features shape: {items_temp.shape}')\n",
    "items = pd.concat([items, items_temp])\n",
    "print(f'items shape become: {items.shape}')"
   ]
  },
  {
   "cell_type": "markdown",
   "metadata": {},
   "source": [
    "**Continue modeling recsys**"
   ]
  },
  {
   "cell_type": "code",
   "execution_count": 43,
   "metadata": {
    "ExecuteTime": {
     "end_time": "2020-10-14T15:59:53.818943Z",
     "start_time": "2020-10-14T15:59:53.816608Z"
    }
   },
   "outputs": [
    {
     "name": "stdout",
     "output_type": "stream",
     "text": [
      "users shape: (27255, 7), items shape: (15277, 5), interactions shape: (398636, 3)\n"
     ]
    }
   ],
   "source": [
    "print(f'users shape: {users.shape}, items shape: {items.shape}, interactions shape: {interactions.shape}')"
   ]
  },
  {
   "cell_type": "markdown",
   "metadata": {},
   "source": [
    "### Lightfm\n",
    "\n",
    "**First create users and items features**\n",
    "\n",
    "During iterations got that these users features make model be worse"
   ]
  },
  {
   "cell_type": "code",
   "execution_count": 44,
   "metadata": {
    "ExecuteTime": {
     "end_time": "2020-10-14T16:02:55.897398Z",
     "start_time": "2020-10-14T16:02:55.892993Z"
    }
   },
   "outputs": [],
   "source": [
    "def build_features(df, features_names):\n",
    "    ''' Build features for lightfm dataset\n",
    "    Parameters:\n",
    "        df - users or items dataframe\n",
    "        features_names - list of feature's names\n",
    "        \n",
    "    Return:\n",
    "        features appropriate for lightfm dataset in a \"feature:value\" format\n",
    "    '''\n",
    "    \n",
    "    features = []\n",
    "    columns = list(itertools.chain(*[[col]*len(df[col].unique()) for col in features_names]))\n",
    "    unique_features = list(itertools.chain(*[list(df[col].unique()) for col in features_names]))\n",
    "    \n",
    "    for x, y in zip(columns, unique_features):\n",
    "        if isinstance(y, str):\n",
    "            features.append(f'{x}:{y}')\n",
    "        else:\n",
    "            features.append(f'{x}:{float(y)}')\n",
    "    \n",
    "    return features"
   ]
  },
  {
   "cell_type": "code",
   "execution_count": 45,
   "metadata": {
    "ExecuteTime": {
     "end_time": "2020-10-14T16:02:59.023860Z",
     "start_time": "2020-10-14T16:02:59.020050Z"
    }
   },
   "outputs": [
    {
     "name": "stdout",
     "output_type": "stream",
     "text": [
      "Index(['customer_id', 'region_5', 'region_6', 'region_7', 'region_4',\n",
      "       'region_2', 'region_3'],\n",
      "      dtype='object')\n",
      "Index(['item_id', 'property_item', 'price_scaled', 'category_num',\n",
      "       'category_connection'],\n",
      "      dtype='object')\n"
     ]
    }
   ],
   "source": [
    "print(users.columns)\n",
    "print(items.columns)"
   ]
  },
  {
   "cell_type": "code",
   "execution_count": 46,
   "metadata": {
    "ExecuteTime": {
     "end_time": "2020-10-14T16:03:05.815632Z",
     "start_time": "2020-10-14T16:03:05.805465Z"
    }
   },
   "outputs": [],
   "source": [
    "user_features = build_features(users, users.columns[1:])\n",
    "item_features = build_features(items, items.columns[1:])"
   ]
  },
  {
   "cell_type": "code",
   "execution_count": 47,
   "metadata": {
    "ExecuteTime": {
     "end_time": "2020-10-14T16:03:08.355278Z",
     "start_time": "2020-10-14T16:03:08.352416Z"
    }
   },
   "outputs": [
    {
     "name": "stdout",
     "output_type": "stream",
     "text": [
      "user: ['region_5:1.0', 'region_5:0.0', 'region_6:0.0']\n",
      "item: ['property_item:0.00949667616334283', 'property_item:0.003371320037986705', 'property_item:0.002991452991452991']\n"
     ]
    }
   ],
   "source": [
    "print('user:', user_features[:3])\n",
    "print('item:', item_features[:3])"
   ]
  },
  {
   "cell_type": "code",
   "execution_count": 49,
   "metadata": {
    "ExecuteTime": {
     "end_time": "2020-10-14T16:09:19.923089Z",
     "start_time": "2020-10-14T16:09:19.889225Z"
    }
   },
   "outputs": [],
   "source": [
    "dataset = Dataset()\n",
    "\n",
    "#from interactions users and items are used!\n",
    "dataset.fit(users=interactions['customer_id'].unique(),\n",
    "                    items=interactions['item_id'].unique(),\n",
    "                    #user_features=user_features,\n",
    "                    item_features=item_features\n",
    "                   )"
   ]
  },
  {
   "cell_type": "code",
   "execution_count": 51,
   "metadata": {
    "ExecuteTime": {
     "end_time": "2020-10-14T16:09:42.431014Z",
     "start_time": "2020-10-14T16:09:40.150306Z"
    }
   },
   "outputs": [],
   "source": [
    "interactions_matrix, weights = dataset.build_interactions([(x[0], x[1], x[2]) for x in interactions.to_numpy()])"
   ]
  },
  {
   "cell_type": "code",
   "execution_count": 52,
   "metadata": {
    "ExecuteTime": {
     "end_time": "2020-10-14T16:09:44.741070Z",
     "start_time": "2020-10-14T16:09:44.737853Z"
    }
   },
   "outputs": [],
   "source": [
    "def feature_colon_value(list_values, features_names):\n",
    "    '''\n",
    "    Helper function that takes the user features and converts them into the proper \"feature:value\" format\n",
    "    Parameters:\n",
    "    \n",
    "        list_values - list of feature's values of user or item like [1, 'Moscow', '10', ..., 'A']\n",
    "        features_names - list of feature's names\n",
    "        \n",
    "    Return:\n",
    "        list in appropriate form for lightfm dataset\n",
    "        \n",
    "    For example: if list_values = [1,1,0,'del'] and features_names = ['f1', 'f2', 'f3', 'loc']\n",
    "    resultant output = ['f1:1', 'f2:1', 'f3:0', 'loc:del']\n",
    "    '''\n",
    "    result = []\n",
    "    \n",
    "    for x, y in zip(features_names, list_values):\n",
    "        if isinstance(y, str):\n",
    "            result.append(f'{x}:{y}')\n",
    "        else:\n",
    "            result.append(f'{x}:{float(y)}')\n",
    "    \n",
    "    return result"
   ]
  },
  {
   "cell_type": "code",
   "execution_count": 53,
   "metadata": {
    "ExecuteTime": {
     "end_time": "2020-10-14T16:09:46.207524Z",
     "start_time": "2020-10-14T16:09:46.204474Z"
    }
   },
   "outputs": [],
   "source": [
    "def build_features_list(df, features_names):\n",
    "    \n",
    "    '''Generate user or item features in proper format for ALL users or ALL items\n",
    "    \n",
    "    Parameters:\n",
    "        df - users or items dataframe\n",
    "        features_names - list of feature's names\n",
    "        \n",
    "    Return:\n",
    "        list of features in appropriate format for lightfm for ALL users or items\n",
    "    '''\n",
    "    \n",
    "    \n",
    "    ad_subset = df[features_names]\n",
    "    ad_list = [list(x) for x in ad_subset.to_numpy()]\n",
    "    features_list = []\n",
    "    for val in ad_list:\n",
    "        features_list.append(feature_colon_value(val, features_names))\n",
    "        \n",
    "    return features_list"
   ]
  },
  {
   "cell_type": "code",
   "execution_count": 55,
   "metadata": {
    "ExecuteTime": {
     "end_time": "2020-10-14T16:10:56.567155Z",
     "start_time": "2020-10-14T16:10:56.159226Z"
    }
   },
   "outputs": [],
   "source": [
    "#cold items and users dropped so everything is okay to use these table\n",
    "user_features_list = build_features_list(users, users.columns[1:])\n",
    "item_features_list = build_features_list(items, items.columns[1:])"
   ]
  },
  {
   "cell_type": "code",
   "execution_count": 56,
   "metadata": {
    "ExecuteTime": {
     "end_time": "2020-10-14T16:11:18.311738Z",
     "start_time": "2020-10-14T16:11:18.295802Z"
    }
   },
   "outputs": [],
   "source": [
    "user_tuple = list(zip(interactions['customer_id'].unique(), user_features_list))\n",
    "item_tuple = list(zip(interactions['item_id'].unique(), item_features_list))"
   ]
  },
  {
   "cell_type": "code",
   "execution_count": 58,
   "metadata": {
    "ExecuteTime": {
     "end_time": "2020-10-14T16:11:30.738446Z",
     "start_time": "2020-10-14T16:11:30.646129Z"
    }
   },
   "outputs": [],
   "source": [
    "#user_features = dataset.build_user_features(user_tuple, normalize=False)\n",
    "item_features = dataset.build_item_features(item_tuple, normalize=False)"
   ]
  },
  {
   "cell_type": "markdown",
   "metadata": {},
   "source": [
    "**Store mappings**"
   ]
  },
  {
   "cell_type": "code",
   "execution_count": 59,
   "metadata": {
    "ExecuteTime": {
     "end_time": "2020-10-14T16:11:32.473289Z",
     "start_time": "2020-10-14T16:11:32.470993Z"
    }
   },
   "outputs": [],
   "source": [
    "user_id_map, user_feature_map, item_id_map, item_feature_map = dataset.mapping()"
   ]
  },
  {
   "cell_type": "markdown",
   "metadata": {},
   "source": [
    "### Lightfm"
   ]
  },
  {
   "cell_type": "markdown",
   "metadata": {},
   "source": [
    "**Split on train and test**"
   ]
  },
  {
   "cell_type": "markdown",
   "metadata": {},
   "source": [
    "Seems that adding user_features make metrics worse"
   ]
  },
  {
   "cell_type": "code",
   "execution_count": 60,
   "metadata": {
    "ExecuteTime": {
     "end_time": "2020-10-14T16:11:35.819877Z",
     "start_time": "2020-10-14T16:11:35.565978Z"
    }
   },
   "outputs": [],
   "source": [
    "train, test = random_train_test_split(interactions_matrix, test_percentage=0.2,\n",
    "                                      random_state=np.random.RandomState(SEED))"
   ]
  },
  {
   "cell_type": "code",
   "execution_count": 79,
   "metadata": {
    "ExecuteTime": {
     "end_time": "2020-10-14T16:17:16.537114Z",
     "start_time": "2020-10-14T16:16:54.529509Z"
    }
   },
   "outputs": [
    {
     "data": {
      "text/plain": [
       "<lightfm.lightfm.LightFM at 0x7f70bf417160>"
      ]
     },
     "execution_count": 79,
     "metadata": {},
     "output_type": "execute_result"
    }
   ],
   "source": [
    "#different parameters tried, these seems is ok\n",
    "model = LightFM(loss='warp', \n",
    "                random_state=SEED, \n",
    "                learning_rate=0.01, \n",
    "                no_components=10,\n",
    "                item_alpha=1e-6\n",
    "                #user_alpha=1e-6\n",
    "               )\n",
    "model.fit(train,\n",
    "          #user_features= user_features,\n",
    "          item_features=item_features,\n",
    "          epochs=30,\n",
    "          num_threads=20 #fitting on more threads can cause problems in quality. 20 is from lightfm documentation\n",
    "         )"
   ]
  },
  {
   "cell_type": "code",
   "execution_count": 126,
   "metadata": {
    "ExecuteTime": {
     "end_time": "2020-10-14T16:54:42.001594Z",
     "start_time": "2020-10-14T16:54:40.735857Z"
    }
   },
   "outputs": [
    {
     "name": "stdout",
     "output_type": "stream",
     "text": [
      "Mean precision at 10: 0.007778759114444256\n"
     ]
    }
   ],
   "source": [
    "pr = precision_at_k(model,\n",
    "              test_interactions=test,\n",
    "              train_interactions=train,\n",
    "              num_threads=20,\n",
    "              k=10,\n",
    "              #user_features=user_features,\n",
    "              item_features=item_features\n",
    "              ).mean()\n",
    "\n",
    "print(f'Mean precision at 10: {pr}')"
   ]
  },
  {
   "cell_type": "code",
   "execution_count": 85,
   "metadata": {
    "ExecuteTime": {
     "end_time": "2020-10-14T16:17:40.051592Z",
     "start_time": "2020-10-14T16:17:38.786206Z"
    }
   },
   "outputs": [
    {
     "name": "stdout",
     "output_type": "stream",
     "text": [
      "AUC: 0.835292398929596\n"
     ]
    }
   ],
   "source": [
    "#just for interest\n",
    "auc = auc_score(model,\n",
    "          test_interactions=test,\n",
    "          train_interactions=train,\n",
    "          num_threads=20,\n",
    "          #user_features=user_features,\n",
    "          item_features=item_features\n",
    "          ).mean()\n",
    "print(f'AUC: {auc}')"
   ]
  },
  {
   "cell_type": "markdown",
   "metadata": {},
   "source": [
    "### A little more things\n",
    "\n",
    "Here I'll predict items for warm users"
   ]
  },
  {
   "cell_type": "code",
   "execution_count": 86,
   "metadata": {
    "ExecuteTime": {
     "end_time": "2020-10-14T16:17:46.971948Z",
     "start_time": "2020-10-14T16:17:46.964676Z"
    }
   },
   "outputs": [
    {
     "name": "stdout",
     "output_type": "stream",
     "text": [
      "from item_id to number in lightfm 3568 -> 0\n"
     ]
    }
   ],
   "source": [
    "#item_id_map is for mapping item_id from data to number in lightfm\n",
    "#for example\n",
    "print('from item_id to number in lightfm', list(item_id_map.keys())[0], '->',\n",
    "      item_id_map[list(item_id_map.keys())[0]])\n",
    "\n",
    "#let's create reverse mapping to get item_ids by lightfm number\n",
    "item_id_map_reverse = {}\n",
    "for k, v in item_id_map.items():\n",
    "    item_id_map_reverse[v] = k"
   ]
  },
  {
   "cell_type": "code",
   "execution_count": 92,
   "metadata": {
    "ExecuteTime": {
     "end_time": "2020-10-14T16:20:29.166651Z",
     "start_time": "2020-10-14T16:19:51.390402Z"
    }
   },
   "outputs": [
    {
     "name": "stdout",
     "output_type": "stream",
     "text": [
      "CPU times: user 12min 28s, sys: 658 ms, total: 12min 29s\n",
      "Wall time: 37.8 s\n"
     ]
    }
   ],
   "source": [
    "%%time\n",
    "recom_top_10 = {}\n",
    "for user in user_id_map.values():\n",
    "    pred = model.predict(user_ids=user,\n",
    "                 item_ids=np.arange(interactions_matrix.shape[1]),\n",
    "                 #item_features=item_features,\n",
    "                 num_threads=20)\n",
    "    \n",
    "    #get top 10 arg of items\n",
    "    top_10 = np.argsort(pred)[:-11:-1]\n",
    "    #get items_id\n",
    "    l = []\n",
    "    for t in top_10:\n",
    "        l.append(item_id_map_reverse[t])\n",
    "    \n",
    "    #key is not user_id! but number in lightfm (0,1,2,..)\n",
    "    #also we can create and use like user_id_map_reverse[user] to get user_id\n",
    "    recom_top_10[user] = (l, list(top_10)) #(item_ids, indices)"
   ]
  },
  {
   "cell_type": "markdown",
   "metadata": {},
   "source": [
    "**To sum up**:\n",
    "It'd be better if we tuned parameters by some frameworks (like optuna) and not by hand. Anyway we have model which can deal with new items and adding a bit better features of users will allow to deal with cold users more smarter than just recommend popular items to them. For current users we have an opportunity to get some recommendations in an easy way.\n",
    "\n",
    "P.S. I didn't try ALS or SVD because they cannot deal with cold users and items at all. Also as I saw using ALS, lightfm or hybridSVD on the 1-st level and getting their embeddings, adding some new features for the 2-d level model like xgbranker can give great results especially in case when ranking is much more important than everything else"
   ]
  },
  {
   "cell_type": "code",
   "execution_count": 122,
   "metadata": {
    "ExecuteTime": {
     "end_time": "2020-10-14T16:43:10.004752Z",
     "start_time": "2020-10-14T16:43:06.789972Z"
    }
   },
   "outputs": [],
   "source": [
    "#take intersections of predicted and test values\n",
    "#where get it put 1 else 0. In ideal it let test top_10 items based on test responses and order given by lightfm\n",
    "binary_recom_10 = {}\n",
    "test_np = test.toarray().astype(int)\n",
    "for user, val in recom_top_10.items():\n",
    "    ixs = np.argwhere(test_np[user, :]==1)\n",
    "    common_ixs = set(val[1]) & set(ixs.flatten())\n",
    "    #where there're common indices we have to change ix with 1 otherwise 0\n",
    "    binary_recom_10[user] = np.where(np.isin(val[1], common_ixs), 1, 0)"
   ]
  },
  {
   "cell_type": "markdown",
   "metadata": {},
   "source": [
    "**Good links**\n",
    "\n",
    "[building-lightfm](https://towardsdatascience.com/how-i-would-explain-building-lightfm-hybrid-recommenders-to-a-5-year-old-b6ee18571309) - best\n",
    "\n",
    "[building-lightfm](https://towardsdatascience.com/recommendation-system-in-python-lightfm-61c85010ce17)\n",
    "\n",
    "[lightfm-vs-hybridsvd](https://www.eigentheories.com/blog/lightfm-vs-hybridsvd/) - very good, here's polar library with different recommender (lightfm is too)\n",
    "\n",
    "[collaborative-filtering-and-hybrid-collaborative-content](https://towardsdatascience.com/recommendation-system-part-1-use-of-collaborative-filtering-and-hybrid-collaborative-content-in-6137ba64ad58)\n",
    "\n",
    "[lightfm kaggle 2](https://www.kaggle.com/niyamatalmass/lightfm-hybrid-recommendation-system)\n",
    "\n",
    "[lightfm kaggle 3](https://www.kaggle.com/shreyashnadage/lightfm)\n",
    "\n",
    "[Converting Curiosity About Recommendation Systems Into Reality](https://medium.com/@bagaria.hb/converting-curiosity-about-recommendation-system-into-reality-c51937cc1684)\n",
    "\n",
    "[avito recsys](https://habr.com/ru/company/avito/blog/439206/)\n",
    "\n",
    "[learning to rank problem](https://everdark.github.io/k9/notebooks/ml/learning_to_rank/learning_to_rank.html)\n",
    "\n",
    "[implicit library doc](https://implicit.readthedocs.io/en/latest/als.html)\n",
    "\n",
    "[lightfm library doc](https://making.lyst.com/lightfm/docs/lightfm.html#lightfm.LightFM.get_item_representations)\n",
    "\n",
    "\n",
    "\n",
    "    "
   ]
  },
  {
   "cell_type": "code",
   "execution_count": null,
   "metadata": {},
   "outputs": [],
   "source": []
  }
 ],
 "metadata": {
  "kernelspec": {
   "display_name": "Python 3",
   "language": "python",
   "name": "python3"
  },
  "language_info": {
   "codemirror_mode": {
    "name": "ipython",
    "version": 3
   },
   "file_extension": ".py",
   "mimetype": "text/x-python",
   "name": "python",
   "nbconvert_exporter": "python",
   "pygments_lexer": "ipython3",
   "version": "3.7.6"
  }
 },
 "nbformat": 4,
 "nbformat_minor": 2
}
